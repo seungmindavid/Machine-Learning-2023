{
  "cells": [
    {
      "cell_type": "code",
      "execution_count": 2,
      "metadata": {
        "colab": {
          "base_uri": "https://localhost:8080/"
        },
        "id": "noIKyX8moFEF",
        "outputId": "97eb2dd5-dcf8-4b81-b7fa-886d7ec58d43"
      },
      "outputs": [
        {
          "name": "stdout",
          "output_type": "stream",
          "text": [
            "Collecting torch_geometric\n",
            "  Downloading torch_geometric-2.4.0-py3-none-any.whl (1.0 MB)\n",
            "\u001b[2K     \u001b[90m━━━━━━━━━━━━━━━━━━━━━━━━━━━━━━━━━━━━━━━━\u001b[0m \u001b[32m1.0/1.0 MB\u001b[0m \u001b[31m8.9 MB/s\u001b[0m eta \u001b[36m0:00:00\u001b[0m\n",
            "\u001b[?25hRequirement already satisfied: tqdm in /usr/local/lib/python3.10/dist-packages (from torch_geometric) (4.66.1)\n",
            "Requirement already satisfied: numpy in /usr/local/lib/python3.10/dist-packages (from torch_geometric) (1.23.5)\n",
            "Requirement already satisfied: scipy in /usr/local/lib/python3.10/dist-packages (from torch_geometric) (1.11.4)\n",
            "Requirement already satisfied: jinja2 in /usr/local/lib/python3.10/dist-packages (from torch_geometric) (3.1.2)\n",
            "Requirement already satisfied: requests in /usr/local/lib/python3.10/dist-packages (from torch_geometric) (2.31.0)\n",
            "Requirement already satisfied: pyparsing in /usr/local/lib/python3.10/dist-packages (from torch_geometric) (3.1.1)\n",
            "Requirement already satisfied: scikit-learn in /usr/local/lib/python3.10/dist-packages (from torch_geometric) (1.2.2)\n",
            "Requirement already satisfied: psutil>=5.8.0 in /usr/local/lib/python3.10/dist-packages (from torch_geometric) (5.9.5)\n",
            "Requirement already satisfied: MarkupSafe>=2.0 in /usr/local/lib/python3.10/dist-packages (from jinja2->torch_geometric) (2.1.3)\n",
            "Requirement already satisfied: charset-normalizer<4,>=2 in /usr/local/lib/python3.10/dist-packages (from requests->torch_geometric) (3.3.2)\n",
            "Requirement already satisfied: idna<4,>=2.5 in /usr/local/lib/python3.10/dist-packages (from requests->torch_geometric) (3.6)\n",
            "Requirement already satisfied: urllib3<3,>=1.21.1 in /usr/local/lib/python3.10/dist-packages (from requests->torch_geometric) (2.0.7)\n",
            "Requirement already satisfied: certifi>=2017.4.17 in /usr/local/lib/python3.10/dist-packages (from requests->torch_geometric) (2023.11.17)\n",
            "Requirement already satisfied: joblib>=1.1.1 in /usr/local/lib/python3.10/dist-packages (from scikit-learn->torch_geometric) (1.3.2)\n",
            "Requirement already satisfied: threadpoolctl>=2.0.0 in /usr/local/lib/python3.10/dist-packages (from scikit-learn->torch_geometric) (3.2.0)\n",
            "Installing collected packages: torch_geometric\n",
            "Successfully installed torch_geometric-2.4.0\n"
          ]
        }
      ],
      "source": [
        "pip install torch_geometric"
      ]
    },
    {
      "cell_type": "code",
      "execution_count": 18,
      "metadata": {
        "id": "63yQZvmycxT8"
      },
      "outputs": [],
      "source": [
        "import numpy as np\n",
        "import torch\n",
        "import torch.nn as nn\n",
        "import torch.nn.functional as F\n",
        "import torch.optim as optim\n",
        "import torchvision\n",
        "from torch.utils.data import DataLoader\n",
        "\n",
        "from torchvision.utils import save_image\n",
        "from torchsummary import summary\n",
        "\n",
        "import matplotlib.pyplot as plt\n",
        "import seaborn as sns\n",
        "from torch_geometric.data import Data, DataLoader\n"
      ]
    },
    {
      "cell_type": "code",
      "execution_count": 19,
      "metadata": {
        "colab": {
          "base_uri": "https://localhost:8080/"
        },
        "id": "paw0Yk5CdMXW",
        "outputId": "fef16351-6bd1-4652-878f-76063dd6c252"
      },
      "outputs": [
        {
          "name": "stdout",
          "output_type": "stream",
          "text": [
            "CPU\n"
          ]
        }
      ],
      "source": [
        "if torch.cuda.is_available():\n",
        "  device = torch.device(\"cuda:0\")\n",
        "  print(\"GPU\")\n",
        "else:\n",
        "  device = torch.device(\"cpu\")\n",
        "  print(\"CPU\")"
      ]
    },
    {
      "cell_type": "markdown",
      "metadata": {
        "id": "gVWF8N-wH7sf"
      },
      "source": [
        "### Import Cora dataset"
      ]
    },
    {
      "cell_type": "code",
      "execution_count": 106,
      "metadata": {
        "colab": {
          "base_uri": "https://localhost:8080/"
        },
        "id": "8wsIhS7IdWx7",
        "outputId": "cf9afd9e-2f42-4adc-d056-c3088f61d37d"
      },
      "outputs": [
        {
          "name": "stdout",
          "output_type": "stream",
          "text": [
            "Number of nodes: 2708\n",
            "Number of nodes: 10556\n",
            "Number of features: 1433\n",
            "Number of classes: 7\n",
            "Has isolated nodes: False\n",
            "Is undirected: True\n",
            "Average node degree: 3.90\n"
          ]
        }
      ],
      "source": [
        "import networkx as nx\n",
        "import matplotlib.pyplot as plt\n",
        "from torch_geometric.datasets import Planetoid\n",
        "from torch_geometric.utils import to_networkx\n",
        "\n",
        "dataset = Planetoid(root='data', name='Cora')\n",
        "data = dataset[0].to(device)\n",
        "\n",
        "print(f'Number of nodes: {data.num_nodes}')\n",
        "print(f'Number of edges: {data.num_edges}')\n",
        "print(f'Number of features: {data.x.size(1)}')\n",
        "print(f'Number of classes: {dataset.num_classes}')\n"
      ]
    },
    {
      "cell_type": "markdown",
      "metadata": {
        "id": "6o9tYpo2UI9B"
      },
      "source": [
        "### Approach for neighborhood aggregation\n",
        "\n",
        "- $h^0_v = x_v$\n",
        "- $h^{l+1}_v = σ(W_l ∑_{u \\in N(v)} \\frac{h^{(l)}_v}{|N(v)|}) + B_lh^{(l)}_v, \\forall l \\in {0, ..., L-1}$\n",
        "- $z_v = h^{(L)}_v$\n",
        "\n",
        "Notation:\n",
        "1. $h^{(l)}_v$: the hidden representation of node v at layer l\n",
        "2. $W_k$ : Weight matrix for neighborhood aggregation\n",
        "3. $B_k$ : Bias matrix for transforming hidden vector of self\n"
      ]
    },
    {
      "cell_type": "code",
      "execution_count": 148,
      "metadata": {
        "id": "tCiYXmx9mD9W"
      },
      "outputs": [],
      "source": [
        "\n",
        "class GraphConvolution(nn.Module):\n",
        "  def __init__(self, input_size, output_size):\n",
        "    super(GraphConvolution, self).__init__()\n",
        "    self.W = nn.Parameter(torch.rand(input_size, output_size))\n",
        "    self.B = nn.Parameter(torch.rand(input_size, output_size))\n",
        "\n",
        "  def forward(self, x, A):\n",
        "    H_W = torch.matmul(x, self.W)\n",
        "    H_B = torch.matmul(x, self.B)\n",
        "    H = torch.matmul(A, H_W) + H_B\n",
        "    return H\n",
        "\n",
        "\n",
        "class GCN(nn.Module):\n",
        "  def __init__(self, input_size, hidden_size, output_size):\n",
        "    super(GCN, self).__init__()\n",
        "    self.conv1 = GraphConvolution(input_size, hidden_size)\n",
        "    self.conv2 = GraphConvolution(hidden_size, hidden_size)\n",
        "\n",
        "  def forward(self, x,A):\n",
        "    x = F.relu(self.conv1(x, A))\n",
        "    x = F.relu(self.conv2(x, A))\n",
        "    return x\n",
        "\n"
      ]
    },
    {
      "cell_type": "code",
      "execution_count": 151,
      "metadata": {
        "colab": {
          "base_uri": "https://localhost:8080/"
        },
        "id": "TyriZg3_sQNh",
        "outputId": "f77cfacf-cd73-4cd5-c07d-98b633c180e8"
      },
      "outputs": [
        {
          "name": "stdout",
          "output_type": "stream",
          "text": [
            "GCN(\n",
            "  (conv1): GraphConvolution()\n",
            "  (conv2): GraphConvolution()\n",
            ")\n",
            "Epoch 1/100, Cross Entropy Loss: 3869.09\n",
            "Epoch 2/100, Cross Entropy Loss: 2676.53\n",
            "Epoch 3/100, Cross Entropy Loss: 1501.66\n",
            "Epoch 4/100, Cross Entropy Loss: 853.98\n",
            "Epoch 5/100, Cross Entropy Loss: 328.41\n",
            "Epoch 6/100, Cross Entropy Loss: 349.67\n",
            "Epoch 7/100, Cross Entropy Loss: 428.97\n",
            "Epoch 8/100, Cross Entropy Loss: 667.65\n",
            "Epoch 9/100, Cross Entropy Loss: 827.46\n",
            "Epoch 10/100, Cross Entropy Loss: 607.56\n",
            "Epoch 11/100, Cross Entropy Loss: 502.43\n",
            "Epoch 12/100, Cross Entropy Loss: 293.17\n",
            "Epoch 13/100, Cross Entropy Loss: 262.40\n",
            "Epoch 14/100, Cross Entropy Loss: 283.28\n",
            "Epoch 15/100, Cross Entropy Loss: 305.64\n",
            "Epoch 16/100, Cross Entropy Loss: 263.07\n",
            "Epoch 17/100, Cross Entropy Loss: 168.67\n",
            "Epoch 18/100, Cross Entropy Loss: 109.96\n",
            "Epoch 19/100, Cross Entropy Loss: 131.24\n",
            "Epoch 20/100, Cross Entropy Loss: 105.93\n",
            "Epoch 21/100, Cross Entropy Loss: 50.48\n",
            "Epoch 22/100, Cross Entropy Loss: 37.52\n",
            "Epoch 23/100, Cross Entropy Loss: 46.38\n",
            "Epoch 24/100, Cross Entropy Loss: 56.98\n",
            "Epoch 25/100, Cross Entropy Loss: 57.75\n",
            "Epoch 26/100, Cross Entropy Loss: 58.85\n",
            "Epoch 27/100, Cross Entropy Loss: 52.40\n",
            "Epoch 28/100, Cross Entropy Loss: 43.45\n",
            "Epoch 29/100, Cross Entropy Loss: 38.07\n",
            "Epoch 30/100, Cross Entropy Loss: 35.96\n",
            "Epoch 31/100, Cross Entropy Loss: 35.14\n",
            "Epoch 32/100, Cross Entropy Loss: 34.13\n",
            "Epoch 33/100, Cross Entropy Loss: 30.98\n",
            "Epoch 34/100, Cross Entropy Loss: 28.28\n",
            "Epoch 35/100, Cross Entropy Loss: 24.20\n",
            "Epoch 36/100, Cross Entropy Loss: 19.96\n",
            "Epoch 37/100, Cross Entropy Loss: 16.06\n",
            "Epoch 38/100, Cross Entropy Loss: 12.53\n",
            "Epoch 39/100, Cross Entropy Loss: 9.45\n",
            "Epoch 40/100, Cross Entropy Loss: 7.07\n",
            "Epoch 41/100, Cross Entropy Loss: 7.89\n",
            "Epoch 42/100, Cross Entropy Loss: 9.01\n",
            "Epoch 43/100, Cross Entropy Loss: 9.09\n",
            "Epoch 44/100, Cross Entropy Loss: 8.28\n",
            "Epoch 45/100, Cross Entropy Loss: 6.93\n",
            "Epoch 46/100, Cross Entropy Loss: 5.28\n",
            "Epoch 47/100, Cross Entropy Loss: 4.00\n",
            "Epoch 48/100, Cross Entropy Loss: 2.81\n",
            "Epoch 49/100, Cross Entropy Loss: 1.96\n",
            "Epoch 50/100, Cross Entropy Loss: 1.16\n",
            "Epoch 51/100, Cross Entropy Loss: 1.17\n",
            "Epoch 52/100, Cross Entropy Loss: 1.66\n",
            "Epoch 53/100, Cross Entropy Loss: 1.57\n",
            "Epoch 54/100, Cross Entropy Loss: 0.66\n",
            "Epoch 55/100, Cross Entropy Loss: 0.00\n",
            "Epoch 56/100, Cross Entropy Loss: 0.00\n",
            "Epoch 57/100, Cross Entropy Loss: 0.00\n",
            "Epoch 58/100, Cross Entropy Loss: 0.00\n",
            "Epoch 59/100, Cross Entropy Loss: 0.06\n",
            "Epoch 60/100, Cross Entropy Loss: 0.06\n",
            "Epoch 61/100, Cross Entropy Loss: 0.00\n",
            "Epoch 62/100, Cross Entropy Loss: 0.00\n",
            "Epoch 63/100, Cross Entropy Loss: 0.00\n",
            "Epoch 64/100, Cross Entropy Loss: 0.00\n",
            "Epoch 65/100, Cross Entropy Loss: 0.00\n",
            "Epoch 66/100, Cross Entropy Loss: 0.00\n",
            "Epoch 67/100, Cross Entropy Loss: 0.00\n",
            "Epoch 68/100, Cross Entropy Loss: 0.00\n",
            "Epoch 69/100, Cross Entropy Loss: 0.00\n",
            "Epoch 70/100, Cross Entropy Loss: 0.00\n",
            "Epoch 71/100, Cross Entropy Loss: 0.00\n",
            "Epoch 72/100, Cross Entropy Loss: 0.00\n",
            "Epoch 73/100, Cross Entropy Loss: 0.00\n",
            "Epoch 74/100, Cross Entropy Loss: 0.00\n",
            "Epoch 75/100, Cross Entropy Loss: 0.00\n",
            "Epoch 76/100, Cross Entropy Loss: 0.00\n",
            "Epoch 77/100, Cross Entropy Loss: 0.00\n",
            "Epoch 78/100, Cross Entropy Loss: 0.00\n",
            "Epoch 79/100, Cross Entropy Loss: 0.00\n",
            "Epoch 80/100, Cross Entropy Loss: 0.00\n",
            "Epoch 81/100, Cross Entropy Loss: 0.00\n",
            "Epoch 82/100, Cross Entropy Loss: 0.00\n",
            "Epoch 83/100, Cross Entropy Loss: 0.00\n",
            "Epoch 84/100, Cross Entropy Loss: 0.00\n",
            "Epoch 85/100, Cross Entropy Loss: 0.00\n",
            "Epoch 86/100, Cross Entropy Loss: 0.00\n",
            "Epoch 87/100, Cross Entropy Loss: 0.00\n",
            "Epoch 88/100, Cross Entropy Loss: 0.00\n",
            "Epoch 89/100, Cross Entropy Loss: 0.00\n",
            "Epoch 90/100, Cross Entropy Loss: 0.00\n",
            "Epoch 91/100, Cross Entropy Loss: 0.00\n",
            "Epoch 92/100, Cross Entropy Loss: 0.00\n",
            "Epoch 93/100, Cross Entropy Loss: 0.00\n",
            "Epoch 94/100, Cross Entropy Loss: 0.00\n",
            "Epoch 95/100, Cross Entropy Loss: 0.00\n",
            "Epoch 96/100, Cross Entropy Loss: 0.00\n",
            "Epoch 97/100, Cross Entropy Loss: 0.00\n",
            "Epoch 98/100, Cross Entropy Loss: 0.00\n",
            "Epoch 99/100, Cross Entropy Loss: 0.00\n",
            "Epoch 100/100, Cross Entropy Loss: 0.00\n",
            "Test Accuracy: 71.10%\n"
          ]
        }
      ],
      "source": [
        "G = to_networkx(data, to_undirected=True)\n",
        "\n",
        "edge_index = data.edge_index\n",
        "num_nodes = data.num_nodes\n",
        "\n",
        "# Adjacency Matrix: A\n",
        "A = torch.zeros((num_nodes, num_nodes), dtype=torch.float)\n",
        "A[edge_index[0], edge_index[1]] = 1.0\n",
        "A[edge_index[1], edge_index[0]] = 1.0\n",
        "\n",
        "\n",
        "input_dim = dataset.num_features\n",
        "hidden_dim = 128\n",
        "output_dim = dataset.num_classes\n",
        "gcn_model = GCN(input_dim, hidden_dim, output_dim)\n",
        "print(gcn_model)\n",
        "\n",
        "lr = 1e-2\n",
        "num_epochs = 100\n",
        "\n",
        "CE_Loss = nn.CrossEntropyLoss()\n",
        "optimizer = optim.Adam(gcn_model.parameters(), lr=lr)\n",
        "\n",
        "for epoch in range(num_epochs):\n",
        "  optimizer.zero_grad()\n",
        "\n",
        "  output = gcn_model.forward(data.x, A)\n",
        "\n",
        "  loss = CE_Loss(output[data.train_mask], data.y[data.train_mask])\n",
        "\n",
        "  loss.backward()\n",
        "  optimizer.step()\n",
        "\n",
        "  print(f'Epoch {epoch + 1}/{num_epochs}, Cross Entropy Loss: {loss.item():.2f}')\n",
        "\n",
        "\n",
        "gcn_model.eval()\n",
        "with torch.no_grad():\n",
        "  pred = gcn_model(data.x, A)\n",
        "  pred = pred.argmax(dim=1)\n",
        "  accuracy = (pred[data.test_mask] == data.y[data.test_mask]).sum().item() / len(pred[data.test_mask])\n",
        "\n",
        "print(f'Test Accuracy: {accuracy * 100:.2f}%')"
      ]
    },
    {
      "cell_type": "code",
      "execution_count": 159,
      "metadata": {
        "id": "_1XXjNqbdosi"
      },
      "outputs": [],
      "source": [
        "from torch_geometric.nn import GCNConv\n",
        "\n",
        "class built_GCN(nn.Module):\n",
        "  def __init__(self, input_size, hidden_size, output_size):\n",
        "    super(built_GCN, self).__init__()\n",
        "    self.conv1 = GCNConv(input_size, hidden_size)\n",
        "    self.conv2 = GCNConv(hidden_size, output_size)\n",
        "\n",
        "  def forward(self, data):\n",
        "    node, edge = data.x, data.edge_index\n",
        "    node = self.conv1(node, edge_index)\n",
        "    node = F.relu(node)\n",
        "    node = self.conv2(node, edge_index)\n",
        "    return F.relu(node)\n"
      ]
    },
    {
      "cell_type": "code",
      "execution_count": 160,
      "metadata": {
        "colab": {
          "base_uri": "https://localhost:8080/"
        },
        "id": "yFAMURhTv7Ca",
        "outputId": "8db87e43-da8d-44e8-c642-d21f33714a34"
      },
      "outputs": [
        {
          "name": "stdout",
          "output_type": "stream",
          "text": [
            "built_GCN(\n",
            "  (conv1): GCNConv(1433, 64)\n",
            "  (conv2): GCNConv(64, 7)\n",
            ")\n",
            "Epoch 1/100, Cross Entropy Loss: 1.94\n",
            "Epoch 2/100, Cross Entropy Loss: 1.71\n",
            "Epoch 3/100, Cross Entropy Loss: 1.43\n",
            "Epoch 4/100, Cross Entropy Loss: 1.15\n",
            "Epoch 5/100, Cross Entropy Loss: 0.90\n",
            "Epoch 6/100, Cross Entropy Loss: 0.67\n",
            "Epoch 7/100, Cross Entropy Loss: 0.48\n",
            "Epoch 8/100, Cross Entropy Loss: 0.34\n",
            "Epoch 9/100, Cross Entropy Loss: 0.24\n",
            "Epoch 10/100, Cross Entropy Loss: 0.16\n",
            "Epoch 11/100, Cross Entropy Loss: 0.11\n",
            "Epoch 12/100, Cross Entropy Loss: 0.08\n",
            "Epoch 13/100, Cross Entropy Loss: 0.05\n",
            "Epoch 14/100, Cross Entropy Loss: 0.04\n",
            "Epoch 15/100, Cross Entropy Loss: 0.02\n",
            "Epoch 16/100, Cross Entropy Loss: 0.02\n",
            "Epoch 17/100, Cross Entropy Loss: 0.01\n",
            "Epoch 18/100, Cross Entropy Loss: 0.01\n",
            "Epoch 19/100, Cross Entropy Loss: 0.01\n",
            "Epoch 20/100, Cross Entropy Loss: 0.01\n",
            "Epoch 21/100, Cross Entropy Loss: 0.00\n",
            "Epoch 22/100, Cross Entropy Loss: 0.00\n",
            "Epoch 23/100, Cross Entropy Loss: 0.00\n",
            "Epoch 24/100, Cross Entropy Loss: 0.00\n",
            "Epoch 25/100, Cross Entropy Loss: 0.00\n",
            "Epoch 26/100, Cross Entropy Loss: 0.00\n",
            "Epoch 27/100, Cross Entropy Loss: 0.00\n",
            "Epoch 28/100, Cross Entropy Loss: 0.00\n",
            "Epoch 29/100, Cross Entropy Loss: 0.00\n",
            "Epoch 30/100, Cross Entropy Loss: 0.00\n",
            "Epoch 31/100, Cross Entropy Loss: 0.00\n",
            "Epoch 32/100, Cross Entropy Loss: 0.00\n",
            "Epoch 33/100, Cross Entropy Loss: 0.00\n",
            "Epoch 34/100, Cross Entropy Loss: 0.00\n",
            "Epoch 35/100, Cross Entropy Loss: 0.00\n",
            "Epoch 36/100, Cross Entropy Loss: 0.00\n",
            "Epoch 37/100, Cross Entropy Loss: 0.00\n",
            "Epoch 38/100, Cross Entropy Loss: 0.00\n",
            "Epoch 39/100, Cross Entropy Loss: 0.00\n",
            "Epoch 40/100, Cross Entropy Loss: 0.00\n",
            "Epoch 41/100, Cross Entropy Loss: 0.00\n",
            "Epoch 42/100, Cross Entropy Loss: 0.00\n",
            "Epoch 43/100, Cross Entropy Loss: 0.00\n",
            "Epoch 44/100, Cross Entropy Loss: 0.00\n",
            "Epoch 45/100, Cross Entropy Loss: 0.00\n",
            "Epoch 46/100, Cross Entropy Loss: 0.00\n",
            "Epoch 47/100, Cross Entropy Loss: 0.00\n",
            "Epoch 48/100, Cross Entropy Loss: 0.00\n",
            "Epoch 49/100, Cross Entropy Loss: 0.00\n",
            "Epoch 50/100, Cross Entropy Loss: 0.00\n",
            "Epoch 51/100, Cross Entropy Loss: 0.00\n",
            "Epoch 52/100, Cross Entropy Loss: 0.00\n",
            "Epoch 53/100, Cross Entropy Loss: 0.00\n",
            "Epoch 54/100, Cross Entropy Loss: 0.00\n",
            "Epoch 55/100, Cross Entropy Loss: 0.00\n",
            "Epoch 56/100, Cross Entropy Loss: 0.00\n",
            "Epoch 57/100, Cross Entropy Loss: 0.00\n",
            "Epoch 58/100, Cross Entropy Loss: 0.00\n",
            "Epoch 59/100, Cross Entropy Loss: 0.00\n",
            "Epoch 60/100, Cross Entropy Loss: 0.00\n",
            "Epoch 61/100, Cross Entropy Loss: 0.00\n",
            "Epoch 62/100, Cross Entropy Loss: 0.00\n",
            "Epoch 63/100, Cross Entropy Loss: 0.00\n",
            "Epoch 64/100, Cross Entropy Loss: 0.00\n",
            "Epoch 65/100, Cross Entropy Loss: 0.00\n",
            "Epoch 66/100, Cross Entropy Loss: 0.00\n",
            "Epoch 67/100, Cross Entropy Loss: 0.00\n",
            "Epoch 68/100, Cross Entropy Loss: 0.00\n",
            "Epoch 69/100, Cross Entropy Loss: 0.00\n",
            "Epoch 70/100, Cross Entropy Loss: 0.00\n",
            "Epoch 71/100, Cross Entropy Loss: 0.00\n",
            "Epoch 72/100, Cross Entropy Loss: 0.00\n",
            "Epoch 73/100, Cross Entropy Loss: 0.00\n",
            "Epoch 74/100, Cross Entropy Loss: 0.00\n",
            "Epoch 75/100, Cross Entropy Loss: 0.00\n",
            "Epoch 76/100, Cross Entropy Loss: 0.00\n",
            "Epoch 77/100, Cross Entropy Loss: 0.00\n",
            "Epoch 78/100, Cross Entropy Loss: 0.00\n",
            "Epoch 79/100, Cross Entropy Loss: 0.00\n",
            "Epoch 80/100, Cross Entropy Loss: 0.00\n",
            "Epoch 81/100, Cross Entropy Loss: 0.00\n",
            "Epoch 82/100, Cross Entropy Loss: 0.00\n",
            "Epoch 83/100, Cross Entropy Loss: 0.00\n",
            "Epoch 84/100, Cross Entropy Loss: 0.00\n",
            "Epoch 85/100, Cross Entropy Loss: 0.00\n",
            "Epoch 86/100, Cross Entropy Loss: 0.00\n",
            "Epoch 87/100, Cross Entropy Loss: 0.00\n",
            "Epoch 88/100, Cross Entropy Loss: 0.00\n",
            "Epoch 89/100, Cross Entropy Loss: 0.00\n",
            "Epoch 90/100, Cross Entropy Loss: 0.00\n",
            "Epoch 91/100, Cross Entropy Loss: 0.00\n",
            "Epoch 92/100, Cross Entropy Loss: 0.00\n",
            "Epoch 93/100, Cross Entropy Loss: 0.00\n",
            "Epoch 94/100, Cross Entropy Loss: 0.00\n",
            "Epoch 95/100, Cross Entropy Loss: 0.00\n",
            "Epoch 96/100, Cross Entropy Loss: 0.00\n",
            "Epoch 97/100, Cross Entropy Loss: 0.00\n",
            "Epoch 98/100, Cross Entropy Loss: 0.00\n",
            "Epoch 99/100, Cross Entropy Loss: 0.00\n",
            "Epoch 100/100, Cross Entropy Loss: 0.00\n",
            "Test Accuracy: 78.30%\n"
          ]
        }
      ],
      "source": [
        "\n",
        "edge_index = data.edge_index\n",
        "num_nodes = data.num_nodes\n",
        "\n",
        "input_dim = dataset.num_features\n",
        "hidden_dim = 64\n",
        "output_dim = dataset.num_classes\n",
        "\n",
        "built_gcn_model = built_GCN(input_dim, hidden_dim, output_dim)\n",
        "print(built_gcn_model)\n",
        "\n",
        "lr = 1e-2\n",
        "num_epochs = 100\n",
        "\n",
        "CE_Loss = nn.CrossEntropyLoss()\n",
        "optimizer = optim.Adam(built_gcn_model.parameters(), lr=lr)\n",
        "\n",
        "for epoch in range(num_epochs):\n",
        "  optimizer.zero_grad()\n",
        "\n",
        "  output = built_gcn_model(data)\n",
        "\n",
        "  loss = CE_Loss(output[data.train_mask], data.y[data.train_mask])\n",
        "\n",
        "  loss.backward()\n",
        "  optimizer.step()\n",
        "\n",
        "  print(f'Epoch {epoch + 1}/{num_epochs}, Cross Entropy Loss: {loss.item():.2f}')\n",
        "\n",
        "\n",
        "built_gcn_model.eval()\n",
        "with torch.no_grad():\n",
        "    pred = built_gcn_model(data)\n",
        "    pred = pred.argmax(dim=1)\n",
        "    accuracy = (pred[data.test_mask] == data.y[data.test_mask]).sum().item() / len(pred[data.test_mask])\n",
        "\n",
        "print(f'Test Accuracy: {accuracy * 100:.2f}%')"
      ]
    },
    {
      "cell_type": "code",
      "execution_count": null,
      "metadata": {
        "id": "QJj6QUFfy-xg"
      },
      "outputs": [],
      "source": []
    },
    {
      "cell_type": "markdown",
      "metadata": {
        "id": "0ctOobMJ5cWA"
      },
      "source": []
    }
  ],
  "metadata": {
    "colab": {
      "provenance": []
    },
    "kernelspec": {
      "display_name": "Python 3",
      "name": "python3"
    },
    "language_info": {
      "name": "python"
    }
  },
  "nbformat": 4,
  "nbformat_minor": 0
}
